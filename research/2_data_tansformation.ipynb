{
 "cells": [
  {
   "metadata": {
    "ExecuteTime": {
     "end_time": "2025-08-30T08:57:03.133908Z",
     "start_time": "2025-08-30T08:57:03.122457Z"
    }
   },
   "cell_type": "code",
   "source": [
    "import os\n",
    "%pwd"
   ],
   "id": "5db03c23f0c123c6",
   "outputs": [
    {
     "data": {
      "text/plain": [
       "'/Users/deryliankhalfani/Documents/Self_Learn/Udemy/MLOps Bootcamp/End2EndMLOpsBootcamp_NLP/research'"
      ]
     },
     "execution_count": 1,
     "metadata": {},
     "output_type": "execute_result"
    }
   ],
   "execution_count": 1
  },
  {
   "metadata": {
    "ExecuteTime": {
     "end_time": "2025-08-30T08:57:03.401042Z",
     "start_time": "2025-08-30T08:57:03.398364Z"
    }
   },
   "cell_type": "code",
   "source": "os.chdir('../')",
   "id": "11325b0dc342ee14",
   "outputs": [],
   "execution_count": 2
  },
  {
   "metadata": {
    "ExecuteTime": {
     "end_time": "2025-08-30T08:57:03.416753Z",
     "start_time": "2025-08-30T08:57:03.412929Z"
    }
   },
   "cell_type": "code",
   "source": [
    "from dataclasses import dataclass\n",
    "from pathlib import Path\n",
    "\n",
    "@dataclass\n",
    "class DataTransformationConfig:\n",
    "    root_dir: Path\n",
    "    data_path: Path\n",
    "    tokenizer_name: Path"
   ],
   "id": "f7ae2e6e6962d0af",
   "outputs": [],
   "execution_count": 3
  },
  {
   "metadata": {
    "ExecuteTime": {
     "end_time": "2025-08-30T08:57:03.635277Z",
     "start_time": "2025-08-30T08:57:03.565751Z"
    }
   },
   "cell_type": "code",
   "source": [
    "from src.textSummarizer.constants import *\n",
    "from src.textSummarizer.utils.common import read_yaml, create_directories"
   ],
   "id": "33a1242a7b97f40e",
   "outputs": [],
   "execution_count": 4
  },
  {
   "metadata": {
    "ExecuteTime": {
     "end_time": "2025-08-30T08:57:03.717095Z",
     "start_time": "2025-08-30T08:57:03.712996Z"
    }
   },
   "cell_type": "code",
   "source": [
    "class ConfigurationManager:\n",
    "    def __init__(self, config_path = CONFIG_FILE_PATH,\n",
    "                 params_filepath = PARAMS_FILE_PATH):\n",
    "        self.config = read_yaml(config_path)\n",
    "        self.params_filepath = read_yaml(params_filepath)\n",
    "\n",
    "        create_directories([self.config.artifacts_root])\n",
    "\n",
    "    def get_data_transformation_configuration(self) -> DataTransformationConfig:\n",
    "        config = self.config.data_transformation\n",
    "        create_directories([config.root_dir])\n",
    "\n",
    "        data_transformation_config=DataTransformationConfig(\n",
    "            root_dir=config.root_dir,\n",
    "            data_path=config.data_path,\n",
    "            tokenizer_name=config.tokenizer_name,\n",
    "\n",
    "        )\n",
    "\n",
    "        return data_transformation_config"
   ],
   "id": "c6daebb02a0c1e7a",
   "outputs": [],
   "execution_count": 5
  },
  {
   "metadata": {},
   "cell_type": "markdown",
   "source": "## Components",
   "id": "48fa323877b83d49"
  },
  {
   "metadata": {
    "ExecuteTime": {
     "end_time": "2025-08-30T08:57:07.562274Z",
     "start_time": "2025-08-30T08:57:04.021530Z"
    }
   },
   "cell_type": "code",
   "source": [
    "import os\n",
    "from src.textSummarizer.logging import logger\n",
    "from transformers import AutoTokenizer\n",
    "from datasets import load_from_disk"
   ],
   "id": "7866e40dd630209",
   "outputs": [
    {
     "name": "stderr",
     "output_type": "stream",
     "text": [
      "/opt/anaconda3/envs/mlops/lib/python3.10/site-packages/tqdm/auto.py:21: TqdmWarning: IProgress not found. Please update jupyter and ipywidgets. See https://ipywidgets.readthedocs.io/en/stable/user_install.html\n",
      "  from .autonotebook import tqdm as notebook_tqdm\n"
     ]
    },
    {
     "name": "stdout",
     "output_type": "stream",
     "text": [
      "[2025-08-30 15:57:07,312: INFO: config: TensorFlow version 2.19.0 available. ]\n"
     ]
    }
   ],
   "execution_count": 6
  },
  {
   "metadata": {
    "ExecuteTime": {
     "end_time": "2025-08-30T08:57:07.583598Z",
     "start_time": "2025-08-30T08:57:07.578509Z"
    }
   },
   "cell_type": "code",
   "source": [
    "class DataTransformation:\n",
    "    def __init__(self, config: DataTransformationConfig):\n",
    "        self.config = config\n",
    "        self.tokenizer = AutoTokenizer.from_pretrained(config.tokenizer_name)\n",
    "\n",
    "    def convert_examples_to_features(self, example_batch):\n",
    "      input_encodings = self.tokenizer(example_batch['dialogue'], max_length = 1024, truncation=True)\n",
    "\n",
    "      with self.tokenizer.as_target_tokenizer():\n",
    "        target_encodings = self.tokenizer(example_batch['summary'], max_length = 128, truncation=True)\n",
    "\n",
    "      return {\n",
    "          'input_ids': input_encodings['input_ids'],\n",
    "          'attention_mask': input_encodings['attention_mask'],\n",
    "          'labels': target_encodings['input_ids']\n",
    "      }\n",
    "\n",
    "    def convert(self):\n",
    "        dataset_samsum = load_from_disk(self.config.data_path)\n",
    "        dataset_samsum_pt = dataset_samsum.map(self.convert_examples_to_features, batched = True)\n",
    "        dataset_samsum_pt.save_to_disk(os.path.join(self.config.root_dir, 'samsum_dataset'))"
   ],
   "id": "5a8953e18a4bd3ee",
   "outputs": [],
   "execution_count": 7
  },
  {
   "metadata": {
    "ExecuteTime": {
     "end_time": "2025-08-30T08:57:11.867629Z",
     "start_time": "2025-08-30T08:57:07.596911Z"
    }
   },
   "cell_type": "code",
   "source": [
    "config = ConfigurationManager()\n",
    "data_transformation_config = config.get_data_transformation_configuration()\n",
    "data_transformation = DataTransformation(config=data_transformation_config)\n",
    "data_transformation.convert()\n"
   ],
   "id": "8e03354deeba482a",
   "outputs": [
    {
     "name": "stdout",
     "output_type": "stream",
     "text": [
      "[2025-08-30 15:57:07,601: INFO: common: yaml file: config/config.yaml loaded successfully ]\n",
      "[2025-08-30 15:57:07,605: INFO: common: yaml file: params.yaml loaded successfully ]\n",
      "[2025-08-30 15:57:07,606: INFO: common: Created directory at: artifacts ]\n",
      "[2025-08-30 15:57:07,607: INFO: common: Created directory at: artifacts/data_transformation ]\n"
     ]
    },
    {
     "name": "stderr",
     "output_type": "stream",
     "text": [
      "Map:   0%|          | 0/14732 [00:00<?, ? examples/s]/opt/anaconda3/envs/mlops/lib/python3.10/site-packages/transformers/tokenization_utils_base.py:4007: UserWarning: `as_target_tokenizer` is deprecated and will be removed in v5 of Transformers. You can tokenize your labels by using the argument `text_target` of the regular `__call__` method (either in the same call as your input texts if you use the same keyword arguments, or in a separate call.\n",
      "  warnings.warn(\n",
      "Map: 100%|██████████| 14732/14732 [00:02<00:00, 5943.42 examples/s]\n",
      "Map: 100%|██████████| 819/819 [00:00<00:00, 6090.85 examples/s]\n",
      "Map: 100%|██████████| 818/818 [00:00<00:00, 6354.09 examples/s]\n",
      "Saving the dataset (1/1 shards): 100%|██████████| 14732/14732 [00:00<00:00, 513598.21 examples/s]\n",
      "Saving the dataset (1/1 shards): 100%|██████████| 819/819 [00:00<00:00, 120687.73 examples/s]\n",
      "Saving the dataset (1/1 shards): 100%|██████████| 818/818 [00:00<00:00, 144497.16 examples/s]\n"
     ]
    }
   ],
   "execution_count": 8
  },
  {
   "metadata": {},
   "cell_type": "code",
   "outputs": [],
   "execution_count": null,
   "source": "",
   "id": "1753689ff08f369"
  }
 ],
 "metadata": {
  "kernelspec": {
   "name": "python3",
   "language": "python",
   "display_name": "Python 3 (ipykernel)"
  }
 },
 "nbformat": 5,
 "nbformat_minor": 9
}

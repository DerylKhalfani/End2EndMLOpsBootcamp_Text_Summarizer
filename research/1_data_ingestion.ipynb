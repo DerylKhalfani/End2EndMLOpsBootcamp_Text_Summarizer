{
 "cells": [
  {
   "metadata": {},
   "cell_type": "markdown",
   "source": "## Data Ingestion Module",
   "id": "bafb68fc4cfeaeb0"
  },
  {
   "metadata": {
    "ExecuteTime": {
     "end_time": "2025-08-29T18:12:16.472507Z",
     "start_time": "2025-08-29T18:12:16.453574Z"
    }
   },
   "cell_type": "code",
   "source": [
    "import os\n",
    "%pwd"
   ],
   "id": "d8d4fbeeb901e7c4",
   "outputs": [
    {
     "data": {
      "text/plain": [
       "'/Users/deryliankhalfani/Documents/Self_Learn/Udemy/MLOps Bootcamp/End2EndMLOpsBootcamp_NLP/research'"
      ]
     },
     "execution_count": 1,
     "metadata": {},
     "output_type": "execute_result"
    }
   ],
   "execution_count": 1
  },
  {
   "metadata": {
    "ExecuteTime": {
     "end_time": "2025-08-29T18:12:16.804724Z",
     "start_time": "2025-08-29T18:12:16.802119Z"
    }
   },
   "cell_type": "code",
   "source": "os.chdir('../')",
   "id": "37722c472c79f420",
   "outputs": [],
   "execution_count": 2
  },
  {
   "metadata": {},
   "cell_type": "markdown",
   "source": "### Basic Configuration",
   "id": "73f1e6985416a701"
  },
  {
   "metadata": {
    "ExecuteTime": {
     "end_time": "2025-08-29T18:12:16.811423Z",
     "start_time": "2025-08-29T18:12:16.809479Z"
    }
   },
   "cell_type": "code",
   "source": [
    "from dataclasses import dataclass\n",
    "from pathlib import Path\n",
    "\n",
    "@dataclass\n",
    "class DataIngestionConfig:\n",
    "    root_dir: Path\n",
    "    source_URL: Path\n",
    "    local_data_file: Path # the output\n",
    "    unzip_dir: Path"
   ],
   "id": "5277dd6affa38906",
   "outputs": [],
   "execution_count": 3
  },
  {
   "metadata": {
    "ExecuteTime": {
     "end_time": "2025-08-29T18:12:17.170441Z",
     "start_time": "2025-08-29T18:12:16.920512Z"
    }
   },
   "cell_type": "code",
   "source": [
    "from src.textSummarizer.constants import *\n",
    "from src.textSummarizer.utils.common import read_yaml, create_directories"
   ],
   "id": "9db5663f6d574ad8",
   "outputs": [],
   "execution_count": 4
  },
  {
   "metadata": {},
   "cell_type": "markdown",
   "source": "### Configuration Updates",
   "id": "26dc5bfc978b2e3a"
  },
  {
   "metadata": {
    "ExecuteTime": {
     "end_time": "2025-08-29T19:23:59.183378Z",
     "start_time": "2025-08-29T19:23:59.139693Z"
    }
   },
   "cell_type": "code",
   "source": [
    "class ConfigurationManager:\n",
    "    def __init__(self, config_path = CONFIG_FILE_PATH,\n",
    "                 params_filepath = PARAMS_FILE_PATH):\n",
    "        self.config = read_yaml(config_path)\n",
    "        self.params_filepath = read_yaml(params_filepath)\n",
    "\n",
    "        create_directories([self.config.artifacts_root])\n",
    "\n",
    "    def get_data_ingestion_configuration(self) -> DataIngestionConfig:\n",
    "        config = self.config.data_ingestion\n",
    "        create_directories([config.root_dir])\n",
    "\n",
    "        data_ingestion_config=DataIngestionConfig(\n",
    "            root_dir=config.root_dir,\n",
    "            source_URL=config.source_URL,\n",
    "            local_data_file=config.local_data_file,\n",
    "            unzip_dir=config.unzip_dir\n",
    "\n",
    "        )\n",
    "\n",
    "        return data_ingestion_config"
   ],
   "id": "f4f08b5461ff3a7d",
   "outputs": [],
   "execution_count": 5
  },
  {
   "metadata": {
    "ExecuteTime": {
     "end_time": "2025-08-29T19:24:47.974494Z",
     "start_time": "2025-08-29T19:24:47.957839Z"
    }
   },
   "cell_type": "code",
   "source": [
    "import os\n",
    "import urllib.request as request\n",
    "import zipfile\n",
    "from src.textSummarizer.logging import logger"
   ],
   "id": "74f3c37e22f7cc1a",
   "outputs": [],
   "execution_count": 6
  },
  {
   "metadata": {},
   "cell_type": "markdown",
   "source": "### Components",
   "id": "746a2a0fc8850c0d"
  },
  {
   "metadata": {
    "ExecuteTime": {
     "end_time": "2025-08-29T19:30:30.854737Z",
     "start_time": "2025-08-29T19:30:30.834719Z"
    }
   },
   "cell_type": "code",
   "source": [
    "class DataIngestion:\n",
    "    def __init__(self, config: DataIngestionConfig):\n",
    "        self.config = config\n",
    "\n",
    "    def download_file(self):\n",
    "        if not os.path.exists(self.config.local_data_file):\n",
    "            filename, headers = request.urlretrieve(url = self.config.source_URL, filename = self.config.local_data_file)\n",
    "\n",
    "            logger.info(f'file downloaded: {filename}')\n",
    "        else:\n",
    "            logger.info(f'file already downloaded: {self.config.local_data_file}')\n",
    "\n",
    "    def extract_zip_file(self):\n",
    "        unzip_path = self.config.unzip_dir\n",
    "        os.makedirs(unzip_path, exist_ok=True)\n",
    "\n",
    "        with zipfile.ZipFile(self.config.local_data_file, 'r') as zf:\n",
    "            zf.extractall(unzip_path)"
   ],
   "id": "e912058c7cc51732",
   "outputs": [],
   "execution_count": 8
  },
  {
   "metadata": {
    "ExecuteTime": {
     "end_time": "2025-08-29T19:32:06.757029Z",
     "start_time": "2025-08-29T19:32:03.534664Z"
    }
   },
   "cell_type": "code",
   "source": [
    "config = ConfigurationManager()\n",
    "data_ingestion_config = config.get_data_ingestion_configuration()\n",
    "data_ingestion = DataIngestion(config=data_ingestion_config)\n",
    "\n",
    "data_ingestion.download_file()\n",
    "data_ingestion.extract_zip_file()"
   ],
   "id": "3de541a3cb22b651",
   "outputs": [
    {
     "name": "stdout",
     "output_type": "stream",
     "text": [
      "[2025-08-30 02:32:03,550: INFO: common: yaml file: config/config.yaml loaded successfully ]\n",
      "[2025-08-30 02:32:03,554: INFO: common: yaml file: params.yaml loaded successfully ]\n",
      "[2025-08-30 02:32:03,557: INFO: common: Created directory at: artifacts ]\n",
      "[2025-08-30 02:32:03,558: INFO: common: Created directory at: artifacts/data_ingestion ]\n",
      "[2025-08-30 02:32:06,581: INFO: 1229930641: file downloaded: artifacts/data_ingestion/data.zip ]\n"
     ]
    }
   ],
   "execution_count": 11
  },
  {
   "metadata": {},
   "cell_type": "code",
   "outputs": [],
   "execution_count": null,
   "source": "",
   "id": "cd7d05de09219c5c"
  }
 ],
 "metadata": {
  "kernelspec": {
   "name": "python3",
   "language": "python",
   "display_name": "Python 3 (ipykernel)"
  }
 },
 "nbformat": 5,
 "nbformat_minor": 9
}
